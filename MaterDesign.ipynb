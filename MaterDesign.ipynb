{
 "cells": [
  {
   "cell_type": "markdown",
   "id": "779efd8b-1865-4442-b14f-51ede7fd10f4",
   "metadata": {},
   "source": [
    "## Novel Materials Design with Data-Driven Quantum Computing"
   ]
  },
  {
   "cell_type": "markdown",
   "id": "fd20007e-3340-4f20-ab51-655a744398c6",
   "metadata": {},
   "source": [
    "Designing novel materials using the available knowledge has been a holy-grail of materials science research. Quantum algorithms promise an efficeint search in the insanely vast chemical space to find novel materials with targeted properties. In this project, leveraging an open-source dataset, we aim to design compounds with enhanced critical temperatures to guide experimental exploration."
   ]
  },
  {
   "cell_type": "markdown",
   "id": "83ba423b-894c-4650-a1f8-c5c37cda6987",
   "metadata": {},
   "source": [
    "## Prediction of Critical Temperature (Tc) of Superconductors using Quantum Machine Learning "
   ]
  },
  {
   "cell_type": "markdown",
   "id": "1f7db2a3-0b5f-4198-8928-3230294ece25",
   "metadata": {},
   "source": [
    "As a first step, we buid a predictive model which would be our surrogate model for the desired property while exploring the chemical space."
   ]
  },
  {
   "cell_type": "markdown",
   "id": "4e746113-b1e1-42ce-95ca-780aa6cc5653",
   "metadata": {},
   "source": [
    "## Dataset Loading"
   ]
  },
  {
   "cell_type": "code",
   "execution_count": null,
   "id": "795cbe36-c781-4d51-8e16-da840df63904",
   "metadata": {},
   "outputs": [],
   "source": [
    "import pandas as pd\n",
    "from sklearn.model_selection import train_test_split\n",
    "from sklearn.preprocessing import StandardScaler\n",
    "\n",
    "# Load datasets\n",
    "train_data = pd.read_csv('/home/ayush/Downloads/superconductivty+data/train.csv')\n",
    "unique_m_data = pd.read_csv('/home/ayush/Downloads/superconductivty+data//unique_m.csv')"
   ]
  },
  {
   "cell_type": "code",
   "execution_count": null,
   "id": "bdfc337a-4224-4ecb-9318-50c96ee9877a",
   "metadata": {},
   "outputs": [],
   "source": [
    "unique_m_data_subset = unique_m_data.iloc[:, :87]\n",
    "merged_data = pd.concat([unique_m_data_subset.reset_index(drop=True), train_data.reset_index(drop=True)], axis=1)\n"
   ]
  },
  {
   "cell_type": "code",
   "execution_count": null,
   "id": "124e5477-d1ae-4044-95bf-055a4c20f6be",
   "metadata": {},
   "outputs": [],
   "source": [
    "# Extract features and target\n",
    "X = merged_data.iloc[:, :-1].values  \n",
    "y = merged_data.iloc[:, -1].values   \n",
    "\n",
    "# Split data\n",
    "X_train, X_test, y_train, y_test = train_test_split(X, y, test_size=0.2, random_state=42)\n",
    "\n",
    "print(X_train.shape)\n",
    "# Standardize the features\n",
    "scaler = StandardScaler()\n",
    "X_train = scaler.fit_transform(X_train)\n",
    "X_test = scaler.transform(X_test)"
   ]
  },
  {
   "cell_type": "markdown",
   "id": "467bf561-a0d2-41e1-8dc8-285f0e0f194b",
   "metadata": {},
   "source": [
    "## Dimensionality Reduction with PCA (optional)"
   ]
  },
  {
   "cell_type": "code",
   "execution_count": null,
   "id": "c0186301-103f-4b24-82af-368d7087ac37",
   "metadata": {},
   "outputs": [],
   "source": [
    "from sklearn.decomposition import PCA\n",
    "\n",
    "# Reduce to a smaller number of features\n",
    "pca = PCA(n_components=10)  # Choose a smaller number based on your needs\n",
    "X_train_reduced = pca.fit_transform(X_train)\n",
    "X_test_reduced = pca.transform(X_test)"
   ]
  },
  {
   "cell_type": "markdown",
   "id": "33de009f-fee7-42d4-ad45-685729ed2d3e",
   "metadata": {},
   "source": [
    "## Quantum Support Vector Regression with Fidelity Quantum Kernel and ZZFeaturemap"
   ]
  },
  {
   "cell_type": "code",
   "execution_count": null,
   "id": "7b62bd0a-0fc6-480e-981b-390f23d5aa5e",
   "metadata": {},
   "outputs": [],
   "source": [
    "from qiskit_machine_learning.kernels import FidelityQuantumKernel\n",
    "from qiskit.circuit.library import ZZFeatureMap\n",
    "from qiskit.primitives import StatevectorEstimator\n",
    "\n",
    "# Define a feature map for Quantum Kernel Estimation\n",
    "feature_map = ZZFeatureMap(feature_dimension=X_train_reduced.shape[1], reps=1, entanglement='full')\n",
    "\n",
    "quantum_kernel = FidelityQuantumKernel(feature_map=feature_map)\n"
   ]
  },
  {
   "cell_type": "code",
   "execution_count": null,
   "id": "5fbb015b-a6e5-4fa0-9ba0-2cc7e5e8a967",
   "metadata": {},
   "outputs": [],
   "source": [
    "from qiskit_machine_learning.algorithms import QSVR\n",
    "\n",
    "# Initialize and train the Quantum Support Vector Regressor with the quantum kernel\n",
    "qsvr = QSVR(quantum_kernel=quantum_kernel)\n",
    "qsvr.fit(X_train_reduced, y_train)"
   ]
  },
  {
   "cell_type": "code",
   "execution_count": null,
   "id": "3b9743e9-3e61-4323-af84-4dbd464b839c",
   "metadata": {},
   "outputs": [],
   "source": [
    "from sklearn.metrics import mean_squared_error, mean_absolute_error, r2_score\n",
    "\n",
    "# Predictions\n",
    "y_pred_train = qsvr.predict(X_train_reduced)\n",
    "y_pred_test = qsvr.predict(X_test_reduced)\n",
    "\n",
    "# Evaluation metrics\n",
    "mse_train = mean_squared_error(y_train, y_pred_train)\n",
    "mse_test = mean_squared_error(y_test, y_pred_test)\n",
    "mae_test = mean_absolute_error(y_test, y_pred_test)\n",
    "r2_test = r2_score(y_test, y_pred_test)\n",
    "\n",
    "print(\"Quantum SVR Train MSE:\", mse_train)\n",
    "print(\"Quantum SVR Test MSE:\", mse_test)\n",
    "print(\"Quantum SVR Test MAE:\", mae_test)\n",
    "print(\"Quantum SVR Test R2 Score:\", r2_test)"
   ]
  },
  {
   "cell_type": "markdown",
   "id": "e1427ec1-27cb-444f-b5ce-7805a516ce61",
   "metadata": {},
   "source": [
    "## Variational Quantum Regression wth ZZFeatureMap"
   ]
  },
  {
   "cell_type": "code",
   "execution_count": null,
   "id": "fc1b7564-028e-48e2-8a79-0f60871d917e",
   "metadata": {},
   "outputs": [],
   "source": [
    "num_qubits = X_train_reduced.shape[1]\n",
    "theta = ParameterVector('theta', length=num_qubits)  # Unique parameter names for feature map\n",
    "# feature_map = EfficientSU2(num_qubits=num_qubits, reps=1, entanglement='linear', parameter_prefix=\"theta\")\n",
    "feature_map_new = ZZFeatureMap(feature_dimension=X_train_reduced.shape[1], reps=1, entanglement='full')\n",
    "\n",
    "\n",
    "# Step 2: Set up the Variational Quantum Regressor (VQR) with COBYLA optimizer\n",
    "vqr = VQR(feature_map=feature_map_new, optimizer=COBYLA())\n",
    "\n",
    "# Step 3: Train the VQR model\n",
    "vqr.fit(X_train_reduced, y_train)"
   ]
  },
  {
   "cell_type": "code",
   "execution_count": null,
   "id": "c12aa4e8-9a94-47b9-b62b-751ced1f0d62",
   "metadata": {},
   "outputs": [],
   "source": [
    "# Predictions\n",
    "y_pred_train = vqr.predict(X_train_reduced)\n",
    "y_pred_test = vqr.predict(X_test_reduced)\n",
    "\n",
    "# Evaluation metrics\n",
    "mse_train = mean_squared_error(y_train, y_pred_train)\n",
    "mse_test = mean_squared_error(y_test, y_pred_test)\n",
    "mae_test = mean_absolute_error(y_test, y_pred_test)\n",
    "r2_test = r2_score(y_test, y_pred_test)\n",
    "\n",
    "print(\"Quantum SVR Train MSE:\", mse_train)\n",
    "print(\"Quantum SVR Test MSE:\", mse_test)\n",
    "print(\"Quantum SVR Test MAE:\", mae_test)\n",
    "print(\"Quantum SVR Test R2 Score:\", r2_test)"
   ]
  },
  {
   "cell_type": "markdown",
   "id": "0419e124-3e6f-4d8b-92a1-66659e93c6d3",
   "metadata": {},
   "source": [
    "## Designing High Tc Superconductors using surrogate QML model based QAOA optimisation"
   ]
  },
  {
   "cell_type": "markdown",
   "id": "5659a164-a2ce-4f6e-a892-3a675bcb523e",
   "metadata": {},
   "source": [
    "After we have our QML model, we follow a strategy to generate new compound rows to be fed to the QML model for prediction of Tc. This is done by creating new rows with QAOA having different compositional parameters, feeding them to QML model for prediction, and using it as a cost function (maximization, in our case) to drive QAOA algorithm towards better candidates generation."
   ]
  },
  {
   "cell_type": "code",
   "execution_count": null,
   "id": "6c6b5470-b781-4f9c-92b2-bb3990adddcb",
   "metadata": {},
   "outputs": [],
   "source": []
  }
 ],
 "metadata": {
  "kernelspec": {
   "display_name": "Python 3 (ipykernel)",
   "language": "python",
   "name": "python3"
  },
  "language_info": {
   "codemirror_mode": {
    "name": "ipython",
    "version": 3
   },
   "file_extension": ".py",
   "mimetype": "text/x-python",
   "name": "python",
   "nbconvert_exporter": "python",
   "pygments_lexer": "ipython3",
   "version": "3.10.14"
  }
 },
 "nbformat": 4,
 "nbformat_minor": 5
}
